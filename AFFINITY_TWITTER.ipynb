{
 "cells": [
  {
   "cell_type": "code",
   "execution_count": null,
   "id": "a516eef6",
   "metadata": {},
   "outputs": [],
   "source": [
    "import re\n",
    "\n",
    "def profanity_score(sentence, profanity_words):\n",
    "    \"\"\"\n",
    "    This function calculates the degree of profanity in a given sentence.\n",
    "    \"\"\"\n",
    "    # Split the sentence into words\n",
    "    words = re.findall(r'\\b\\w+\\b', sentence)\n",
    "    # Check the number of profanity words in the sentence\n",
    "    profanity_count = sum([1 for word in words if word.lower() in profanity_words])\n",
    "    # Return the profanity score as a fraction of the total number of words\n",
    "    return profanity_count / len(words)\n",
    "\n",
    "# Define the set of profanity words\n",
    "profanity_words = {'racial_slur_1', 'racial_slur_2', ..., 'racial_slur_n'}\n",
    "\n",
    "# Open the file of tweets\n",
    "with open('tweets.txt', 'r') as f:\n",
    "    # Read the tweets\n",
    "    tweets = f.readlines()\n",
    "\n",
    "# Calculate the profanity score for each tweet\n",
    "scores = [profanity_score(tweet, profanity_words) for tweet in tweets]\n",
    "\n",
    "# Print the results\n",
    "for tweet, score in zip(tweets, scores):\n",
    "    print(f'{tweet}: {score}')"
   ]
  }
 ],
 "metadata": {
  "kernelspec": {
   "display_name": "Python 3 (ipykernel)",
   "language": "python",
   "name": "python3"
  },
  "language_info": {
   "codemirror_mode": {
    "name": "ipython",
    "version": 3
   },
   "file_extension": ".py",
   "mimetype": "text/x-python",
   "name": "python",
   "nbconvert_exporter": "python",
   "pygments_lexer": "ipython3",
   "version": "3.9.13"
  }
 },
 "nbformat": 4,
 "nbformat_minor": 5
}
